{
 "cells": [
  {
   "cell_type": "code",
   "execution_count": 1,
   "metadata": {
    "collapsed": true
   },
   "outputs": [],
   "source": [
    "#QUENTIN_GROSHENS_2017#"
   ]
  },
  {
   "cell_type": "code",
   "execution_count": 2,
   "metadata": {
    "collapsed": true
   },
   "outputs": [],
   "source": [
    "import numpy as np"
   ]
  },
  {
   "cell_type": "code",
   "execution_count": 3,
   "metadata": {
    "collapsed": true
   },
   "outputs": [],
   "source": [
    "import pandas as pd"
   ]
  },
  {
   "cell_type": "code",
   "execution_count": 4,
   "metadata": {
    "collapsed": true
   },
   "outputs": [],
   "source": [
    "import time"
   ]
  },
  {
   "cell_type": "code",
   "execution_count": 5,
   "metadata": {
    "collapsed": true
   },
   "outputs": [],
   "source": [
    "%matplotlib inline"
   ]
  },
  {
   "cell_type": "code",
   "execution_count": 4,
   "metadata": {
    "collapsed": true
   },
   "outputs": [],
   "source": [
    "#first_exercice: counting lines#"
   ]
  },
  {
   "cell_type": "code",
   "execution_count": 5,
   "metadata": {
    "collapsed": true
   },
   "outputs": [],
   "source": [
    "def number_lines(filename,N_chunk=10000):\n",
    "    chunks=pd.read_csv(filename,sep='^',chunksize=N_chunk) #cutting file in chuncks to stay in memory\n",
    "    n_lines=0\n",
    "    for chunk in chunks:\n",
    "        n_lines=n_lines+chunk.shape[0]\n",
    "    return n_lines"
   ]
  },
  {
   "cell_type": "code",
   "execution_count": 6,
   "metadata": {},
   "outputs": [
    {
     "data": {
      "text/plain": [
       "20390198"
      ]
     },
     "execution_count": 6,
     "metadata": {},
     "output_type": "execute_result"
    }
   ],
   "source": [
    "number_lines(\"searches.csv\")"
   ]
  },
  {
   "cell_type": "code",
   "execution_count": 7,
   "metadata": {},
   "outputs": [
    {
     "data": {
      "text/plain": [
       "10000010"
      ]
     },
     "execution_count": 7,
     "metadata": {},
     "output_type": "execute_result"
    }
   ],
   "source": [
    "number_lines(\"bookings.csv\")"
   ]
  },
  {
   "cell_type": "code",
   "execution_count": 8,
   "metadata": {
    "collapsed": true
   },
   "outputs": [],
   "source": [
    "#second_exercice: top arrival airports#"
   ]
  },
  {
   "cell_type": "code",
   "execution_count": 29,
   "metadata": {
    "collapsed": true
   },
   "outputs": [],
   "source": [
    "#with the real data#"
   ]
  },
  {
   "cell_type": "code",
   "execution_count": 4,
   "metadata": {
    "collapsed": true
   },
   "outputs": [],
   "source": [
    "def topArrivals(N=10,N_chunk=10000):\n",
    "    chunks=pd.read_csv(\"bookings.csv\",sep='^',chunksize=N_chunk)\n",
    "    arr_count=pd.DataFrame()#initialize count\n",
    "    for chunk in chunks:\n",
    "        local_arr_count=chunk[['arr_port','pax']]\n",
    "        local_arr_count=local_arr_count.dropna(axis=0, how='any')#drop rows with Nans\n",
    "        local_arr_count=local_arr_count.groupby('arr_port').aggregate(sum)#sum by arrival airport\n",
    "        arr_count=arr_count.add(local_arr_count,fill_value=0).astype(int)\n",
    "    arr_count=arr_count.sort_values(by='pax',ascending=False )[:N] \n",
    "    return arr_count\n",
    "    "
   ]
  },
  {
   "cell_type": "code",
   "execution_count": 7,
   "metadata": {
    "collapsed": true
   },
   "outputs": [],
   "source": [
    "arr_count=topArrivals(10,N_chunk=10000)"
   ]
  },
  {
   "cell_type": "code",
   "execution_count": 15,
   "metadata": {},
   "outputs": [
    {
     "data": {
      "text/html": [
       "<div>\n",
       "<style>\n",
       "    .dataframe thead tr:only-child th {\n",
       "        text-align: right;\n",
       "    }\n",
       "\n",
       "    .dataframe thead th {\n",
       "        text-align: left;\n",
       "    }\n",
       "\n",
       "    .dataframe tbody tr th {\n",
       "        vertical-align: top;\n",
       "    }\n",
       "</style>\n",
       "<table border=\"1\" class=\"dataframe\">\n",
       "  <thead>\n",
       "    <tr style=\"text-align: right;\">\n",
       "      <th></th>\n",
       "      <th>pax</th>\n",
       "    </tr>\n",
       "    <tr>\n",
       "      <th>arr_port</th>\n",
       "      <th></th>\n",
       "    </tr>\n",
       "  </thead>\n",
       "  <tbody>\n",
       "    <tr>\n",
       "      <th>LHR</th>\n",
       "      <td>88809</td>\n",
       "    </tr>\n",
       "    <tr>\n",
       "      <th>MCO</th>\n",
       "      <td>70930</td>\n",
       "    </tr>\n",
       "    <tr>\n",
       "      <th>LAX</th>\n",
       "      <td>70530</td>\n",
       "    </tr>\n",
       "    <tr>\n",
       "      <th>LAS</th>\n",
       "      <td>69630</td>\n",
       "    </tr>\n",
       "    <tr>\n",
       "      <th>JFK</th>\n",
       "      <td>66270</td>\n",
       "    </tr>\n",
       "    <tr>\n",
       "      <th>CDG</th>\n",
       "      <td>64490</td>\n",
       "    </tr>\n",
       "    <tr>\n",
       "      <th>BKK</th>\n",
       "      <td>59460</td>\n",
       "    </tr>\n",
       "    <tr>\n",
       "      <th>MIA</th>\n",
       "      <td>58150</td>\n",
       "    </tr>\n",
       "    <tr>\n",
       "      <th>SFO</th>\n",
       "      <td>58000</td>\n",
       "    </tr>\n",
       "    <tr>\n",
       "      <th>DXB</th>\n",
       "      <td>55590</td>\n",
       "    </tr>\n",
       "  </tbody>\n",
       "</table>\n",
       "</div>"
      ],
      "text/plain": [
       "            pax\n",
       "arr_port       \n",
       "LHR       88809\n",
       "MCO       70930\n",
       "LAX       70530\n",
       "LAS       69630\n",
       "JFK       66270\n",
       "CDG       64490\n",
       "BKK       59460\n",
       "MIA       58150\n",
       "SFO       58000\n",
       "DXB       55590"
      ]
     },
     "execution_count": 15,
     "metadata": {},
     "output_type": "execute_result"
    }
   ],
   "source": [
    "arr_count"
   ]
  },
  {
   "cell_type": "code",
   "execution_count": 9,
   "metadata": {
    "collapsed": true
   },
   "outputs": [],
   "source": [
    "arr_count.to_json(\"topArrivals.json\")\n"
   ]
  },
  {
   "cell_type": "code",
   "execution_count": 125,
   "metadata": {
    "collapsed": true
   },
   "outputs": [],
   "source": [
    "#third exercice: monthly destination searches#\n",
    "#first one destination at a time#"
   ]
  },
  {
   "cell_type": "code",
   "execution_count": 10,
   "metadata": {
    "collapsed": true
   },
   "outputs": [],
   "source": [
    "months_string=['January','February','March','April','May','June','July','August','September','October','November','December']\n"
   ]
  },
  {
   "cell_type": "code",
   "execution_count": 11,
   "metadata": {
    "collapsed": true
   },
   "outputs": [],
   "source": [
    "def date2month(date):\n",
    "    #input string as a date eg: 'yyyy-mm-dd'\n",
    "    #output string as a month eg: 'March'\n",
    "    month=int(date.split('-')[1])-1 #january=0 ect#\n",
    "    return months_string[month]"
   ]
  },
  {
   "cell_type": "code",
   "execution_count": 19,
   "metadata": {
    "collapsed": true
   },
   "outputs": [],
   "source": [
    "def monthlySearches(destination,N_chunk=10000):\n",
    "    monthly_search=pd.DataFrame(np.zeros((12,1),dtype=int),columns=[destination],index=months_string)  #initialize a dataframe indexed on months for counting\n",
    "    chunks=pd.read_csv(\"searches.csv\",sep='^',chunksize=N_chunk)\n",
    "    for chunk in chunks:\n",
    "        date_df=chunk[chunk['Destination']== destination]['Date'].apply(date2month)#transform the date date as just the month for the entries matching the destination\n",
    "        local_monthly=date_df.value_counts()#counting by month\n",
    "        monthly_search=monthly_search.add(pd.DataFrame(local_monthly.values,local_monthly.keys().values,columns=[destination]),fill_value=0).astype(int)#transform the data from local_monthly to a proper dataframe and adding  \n",
    "    monthly_search.index=pd.CategoricalIndex(months_string,categories=months_string,sorted=True)#properly order the months in the dataframe  \n",
    "    return monthly_search.sort_index()"
   ]
  },
  {
   "cell_type": "code",
   "execution_count": 13,
   "metadata": {
    "collapsed": true
   },
   "outputs": [],
   "source": [
    "def multiMonthlySearches(destinations,N_chunk=10000):\n",
    "    msTotal=pd.DataFrame()\n",
    "    for destination in destinations:\n",
    "        msTotal=pd.concat([msTotal,monthlySearches(destination,N_chunk=N_chunk)],axis=1)\n",
    "    return msTotal"
   ]
  },
  {
   "cell_type": "code",
   "execution_count": 14,
   "metadata": {
    "collapsed": true
   },
   "outputs": [],
   "source": [
    "msTotal=multiMonthlySearches(['AGP','MAD','BCN'])"
   ]
  },
  {
   "cell_type": "code",
   "execution_count": 17,
   "metadata": {},
   "outputs": [
    {
     "data": {
      "text/plain": [
       "<matplotlib.axes._subplots.AxesSubplot at 0x55837f00b8>"
      ]
     },
     "execution_count": 17,
     "metadata": {},
     "output_type": "execute_result"
    },
    {
     "data": {
      "image/png": "[encoded data removed]",
      "text/plain": [
       "<matplotlib.figure.Figure at 0x558a2bb6d8>"
      ]
     },
     "metadata": {},
     "output_type": "display_data"
    }
   ],
   "source": [
    "msTotal.plot(kind='bar')"
   ]
  },
  {
   "cell_type": "code",
   "execution_count": 6,
   "metadata": {
    "collapsed": true
   },
   "outputs": [],
   "source": [
    "#fourth exercice: matching seaches and bookings#\n"
   ]
  },
  {
   "cell_type": "code",
   "execution_count": 9,
   "metadata": {
    "collapsed": true
   },
   "outputs": [],
   "source": [
    "daySec=24*60*60\n"
   ]
  },
  {
   "cell_type": "code",
   "execution_count": 10,
   "metadata": {},
   "outputs": [],
   "source": [
    "def getDate(timeString):\n",
    "    return timeString.split(\" \")[0]\n",
    "    \n",
    "    "
   ]
  },
  {
   "cell_type": "code",
   "execution_count": 11,
   "metadata": {
    "collapsed": true
   },
   "outputs": [],
   "source": [
    "def stripString(string):\n",
    "    copy=string\n",
    "    return copy.strip()"
   ]
  },
  {
   "cell_type": "code",
   "execution_count": 12,
   "metadata": {
    "collapsed": true
   },
   "outputs": [],
   "source": [
    "def stringToTime(stringTime):\n",
    "    #parse a string and return the number of second since the ref time date\n",
    "    return time.mktime(time.strptime(stringTime,'%Y-%m-%d %H:%M:%S'))"
   ]
  },
  {
   "cell_type": "code",
   "execution_count": 13,
   "metadata": {
    "collapsed": true
   },
   "outputs": [],
   "source": [
    "def getTime(entry):\n",
    "    #build the string combining the date and the time and return the seconds\n",
    "    \n",
    "    #stringTime=entry['Date']+' '+entry['Time']\n",
    "    \n",
    "    \n",
    "    return time.mktime(time.strptime(entry['Seg1Date'],'%Y-%m-%d'))\n",
    "    #return stringToTime(stringTime)\n",
    "    "
   ]
  },
  {
   "cell_type": "code",
   "execution_count": 14,
   "metadata": {
    "collapsed": true
   },
   "outputs": [],
   "source": [
    "def isInTimeframe(act_date,referenceTime,timeframe=daySec):\n",
    "    #check if a time is within a given timeframe from a ref date\n",
    "    timeStamp=stringToTime(act_date)-referenceTime\n",
    "    return (timeStamp<=timeframe)&(timeStamp>0)\n"
   ]
  },
  {
   "cell_type": "code",
   "execution_count": 15,
   "metadata": {
    "collapsed": true
   },
   "outputs": [],
   "source": [
    "def isAfterTimeframe(act_date,referenceTime,timeframe=daySec):\n",
    "    #check if a time is after a given timeframe from a ref date\n",
    "    timeStamp=stringToTime(act_date)-referenceTime\n",
    "    return (timeStamp>timeframe)"
   ]
  },
  {
   "cell_type": "code",
   "execution_count": 16,
   "metadata": {
    "collapsed": true
   },
   "outputs": [],
   "source": [
    "def isMatchingArrDep(booking,search):\n",
    "    #check if destination and departure are matching   \n",
    "    return (booking['arr_port'].strip()==search['Destination'])&(booking['dep_port'].strip()==search['Origin'])"
   ]
  },
  {
   "cell_type": "code",
   "execution_count": 17,
   "metadata": {
    "collapsed": true
   },
   "outputs": [],
   "source": [
    "def fullMatching(booking,search,timeframe=daySec):\n",
    "    #combine the time and location matching between a booking and a search\n",
    "    matchArrDep=isMatchingArrDep(booking,search)\n",
    "    #matchTime=isInTimeframe(booking['act_date           '],getTime(search),timeframe)\n",
    "    \n",
    "    matchTime=time.strptime(booking['off_time           '].split(\" \")[0],'%Y-%m-%d')==time.strptime(search['Seg1Date'],'%Y-%m-%d')\n",
    "    return matchArrDep#&matchTime\n",
    "    "
   ]
  },
  {
   "cell_type": "code",
   "execution_count": 28,
   "metadata": {},
   "outputs": [],
   "source": [
    "def searchToBooking(search,N_chunk=10000):\n",
    "    #doesn't take into account if the booking was canceled after\n",
    "    #doesn't perfectly take into account multiple search and or multiple bookings within the timeframe\n",
    "    #return 1 if a booking with matching arrival and departure is found within the timeframe and if the booking was not canceled within the timeframe\n",
    "    #return 0 otherwise\n",
    "    #timeframe 24h\n",
    "    \n",
    "    if not(isinstance(search['Seg1Date'],str)):\n",
    "        return 0\n",
    "    \n",
    "    referenceTime=getTime(search)\n",
    "    timeframe=daySec\n",
    "    bookingCount=0\n",
    "    \n",
    "    chunks=pd.read_csv(\"bookings.csv\",sep='^',chunksize=N_chunk)\n",
    "    for chunk in chunks:\n",
    "        #local_bookings=chunk[['act_date           ','arr_port','dep_port','pax']]\n",
    "        local_bookings=chunk[['off_time           ','arr_port','dep_port','pax']]\n",
    "        #if isAfterTimeframe(local_bookings.head(1)['off_time           '].values[0],referenceTime,timeframe):\n",
    "        #    return 0 #if the head is after the timeframe, all following bookings are out of the timeframe\n",
    "        \n",
    "        #local_bookings=local_bookings[local_bookings.apply(fullMatching,search=search,timeframe=timeframe,axis=1).values]#filter the matching bookings\n",
    "        \n",
    "        #separated matching for testing\n",
    "        timeCond=local_bookings['off_time           '].apply(getDate)==search['Seg1Date']\n",
    "        \n",
    "        local_bookings=local_bookings[timeCond]\n",
    "        if local_bookings.shape[0]==0:\n",
    "            continue         \n",
    "        #local_bookings['arr_port']=local_bookings['arr_port'].apply(stripString)\n",
    "        #local_bookings['dep_port']=local_bookings['dep_port'].apply(stripString)        \n",
    "        \n",
    "        local_bookings=local_bookings[local_bookings['arr_port'].apply(stripString)==search['Destination']]      \n",
    "        if local_bookings.shape[0]==0:\n",
    "            continue\n",
    "        local_bookings=local_bookings[local_bookings['dep_port'].apply(stripString)==search['Origin']]\n",
    "        if local_bookings.shape[0]==0:\n",
    "            continue\n",
    "       \n",
    "        print('location match ' )  \n",
    "        print(local_bookings.shape)   \n",
    "        \n",
    "        print(local_bookings)\n",
    "        print(search[['Destination','Origin','Seg1Date']])\n",
    "        \n",
    "\n",
    "   \n",
    "        \n",
    "        \n",
    "        local_bookings=local_bookings.dropna(axis=0, how='any')\n",
    "        if local_bookings.shape[0]==0:\n",
    "            continue #no booking match in this chunck, cheack next chunk\n",
    "        bookingCount=bookingCount+local_bookings['pax'].aggregate(sum)#if all matching booking are canceled during the timeframe, sum will be 0\n",
    "    if bookingCount>0:\n",
    "        return 1\n",
    "    else:\n",
    "        return 0 #all chunk are chek with no success\n",
    "\n",
    "        \n"
   ]
  },
  {
   "cell_type": "code",
   "execution_count": 29,
   "metadata": {
    "collapsed": true
   },
   "outputs": [],
   "source": [
    "def matchSearchBooking(N_chunk=10):\n",
    "    chunks=pd.read_csv(\"searches.csv\",sep='^',chunksize=N_chunk,nrows=1000)\n",
    "    header=True\n",
    "    for chunk in chunks:\n",
    "        chunk['Booking']=chunk.apply(searchToBooking,axis=1)\n",
    "        chunk.to_csv(\"seachMatch.csv\",mode='a',header=header)#append to seachMatch. be carefull if the file is already existing\n",
    "        if header:#put the header only with the first write\n",
    "            header=False\n",
    "    \n",
    "    "
   ]
  },
  {
   "cell_type": "code",
   "execution_count": null,
   "metadata": {},
   "outputs": [],
   "source": [
    "matchSearchBooking()"
   ]
  },
  {
   "cell_type": "code",
   "execution_count": null,
   "metadata": {
    "collapsed": true
   },
   "outputs": [],
   "source": []
  }
 ],
 "metadata": {
  "kernelspec": {
   "display_name": "Python 3",
   "language": "python",
   "name": "python3"
  },
  "language_info": {
   "codemirror_mode": {
    "name": "ipython",
    "version": 3
   },
   "file_extension": ".py",
   "mimetype": "text/x-python",
   "name": "python",
   "nbconvert_exporter": "python",
   "pygments_lexer": "ipython3",
   "version": "3.6.3"
  }
 },
 "nbformat": 4,
 "nbformat_minor": 2
}
